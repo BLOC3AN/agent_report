{
 "cells": [
  {
   "cell_type": "code",
   "execution_count": 13,
   "id": "6216da6c",
   "metadata": {},
   "outputs": [],
   "source": [
    "from langchain_core.tools import tool\n",
    "from langchain_google_genai import ChatGoogleGenerativeAI\n",
    "from langchain_core.messages import ToolMessage"
   ]
  },
  {
   "cell_type": "code",
   "execution_count": 14,
   "id": "cbd1ccb5",
   "metadata": {},
   "outputs": [],
   "source": [
    "import polars as pl\n",
    "import requests\n",
    "from io import BytesIO\n",
    "from typing import Dict, Any # type: ignore\n",
    "from langchain_core.tools import tool\n",
    "\n",
    "@tool(description=\"get_information_from_url\")\n",
    "def get_information_from_url(url: str) -> Dict[str, Any]:\n",
    "    \"\"\"\n",
    "    Lấy dữ liệu báo cáo hàng ngày từ Google Sheet bằng URL\n",
    "    \"\"\"\n",
    "    # Tải dữ liệu dưới dạng bytes\n",
    "    sheet_id = url.split(\"/\")[-2]\n",
    "    csv_url = f\"https://docs.google.com/spreadsheets/d/{sheet_id}/export?format=csv\"\n",
    "\n",
    "    response = requests.get(csv_url)\n",
    "    response.raise_for_status()\n",
    "\n",
    "    # Đọc CSV với encoding UTF-8\n",
    "    try:\n",
    "        df = pl.read_csv(BytesIO(response.content), encoding=\"utf8\")\n",
    "        df_formated = df.with_columns(pl.col('Date').str.to_datetime().dt.date().alias('date_formated')).sort(by='date_formated',descending=True) # type: ignore\n",
    "        for content in df_formated.iter_rows():\n",
    "            if content[1]:\n",
    "                return df.filter(pl.col('Date')==content[0]).to_struct()[0]\n",
    "    except Exception as e:\n",
    "        print(e)\n",
    "        return {}"
   ]
  },
  {
   "cell_type": "code",
   "execution_count": 15,
   "id": "c2e09250",
   "metadata": {},
   "outputs": [
    {
     "name": "stdout",
     "output_type": "stream",
     "text": [
      "Tool calls: [{'name': 'get_information_from_url', 'args': {'url': 'https://docs.google.com/spreadsheets/d/19zPaWbW-VuYqhq1ur8vcPoV4EbDKKVDDN84vi4yuOJU/edit?usp=sharing'}, 'id': '67abc3ea-02d1-48eb-a97b-a50bd1374131', 'type': 'tool_call'}]\n",
      "Final response: OK. I have the information from the Google Sheet. The date is 15/06/2025. The tasks in progress are \"Nghiên cứu finetuning_model, LoRA, QLoRA\". There are no blockers. The completed task is \"Time optimization for analysis intent\".\n"
     ]
    }
   ],
   "source": [
    "# Cải thiện mô tả tool để rõ ràng hơn\n",
    "@tool(description=\"Get information from Google Sheet URL\")\n",
    "def get_information_from_url(url: str) -> Dict[str, Any]:\n",
    "    \"\"\"\n",
    "    Lấy dữ liệu báo cáo hàng ngày từ Google Sheet bằng URL.\n",
    "    Nhận vào URL của Google Sheet và trả về dữ liệu mới nhất.\n",
    "    Sử dụng tool này khi cần truy xuất dữ liệu từ Google Sheet.\n",
    "    \"\"\"\n",
    "    # Tải dữ liệu dưới dạng bytes\n",
    "    sheet_id = url.split(\"/\")[-2]\n",
    "    csv_url = f\"https://docs.google.com/spreadsheets/d/{sheet_id}/export?format=csv\"\n",
    "\n",
    "    response = requests.get(csv_url)\n",
    "    response.raise_for_status()\n",
    "\n",
    "    # Đọc CSV với encoding UTF-8\n",
    "    try:\n",
    "        df = pl.read_csv(BytesIO(response.content), encoding=\"utf8\")\n",
    "        df_formated = df.with_columns(pl.col('Date').str.to_datetime().dt.date().alias('date_formated')).sort(by='date_formated',descending=True)\n",
    "        for content in df_formated.iter_rows():\n",
    "            if content[1]:\n",
    "                return df.filter(pl.col('Date')==content[0]).to_struct()[0]\n",
    "    except Exception as e:\n",
    "        print(e)\n",
    "        return {}\n",
    "\n",
    "# Tạo LLM với temperature thấp hơn để tăng khả năng gọi tool\n",
    "llm = ChatGoogleGenerativeAI(model=\"gemini-2.0-flash\", temperature=0)\n",
    "llm_with_tools = llm.bind_tools([get_information_from_url])\n",
    "\n",
    "# Làm rõ prompt để LLM hiểu cần sử dụng tool\n",
    "url = \"https://docs.google.com/spreadsheets/d/19zPaWbW-VuYqhq1ur8vcPoV4EbDKKVDDN84vi4yuOJU/edit?usp=sharing\"\n",
    "query = f\"Sử dụng tool get_information_from_url để lấy báo cáo từ URL: {url}\"\n",
    "\n",
    "# Gọi LLM\n",
    "ai_msg = llm_with_tools.invoke(query)\n",
    "\n",
    "# Kiểm tra tool calls\n",
    "print(\"Tool calls:\", ai_msg.tool_calls)\n",
    "\n",
    "# Xử lý kết quả an toàn\n",
    "if ai_msg.tool_calls:\n",
    "    tool_message = ToolMessage(\n",
    "        content=get_information_from_url(ai_msg.tool_calls[0][\"args\"][\"url\"]),\n",
    "        tool_call_id=ai_msg.tool_calls[0][\"id\"],\n",
    "    )\n",
    "    final_response = llm_with_tools.invoke([ai_msg, tool_message])\n",
    "    print(\"Final response:\", final_response.content)\n",
    "else:\n",
    "    print(\"Không có tool nào được gọi. Hãy thử điều chỉnh prompt hoặc mô tả tool.\")"
   ]
  },
  {
   "cell_type": "code",
   "execution_count": null,
   "id": "1de17347",
   "metadata": {},
   "outputs": [],
   "source": []
  }
 ],
 "metadata": {
  "kernelspec": {
   "display_name": "Python 3",
   "language": "python",
   "name": "python3"
  },
  "language_info": {
   "codemirror_mode": {
    "name": "ipython",
    "version": 3
   },
   "file_extension": ".py",
   "mimetype": "text/x-python",
   "name": "python",
   "nbconvert_exporter": "python",
   "pygments_lexer": "ipython3",
   "version": "3.10.12"
  }
 },
 "nbformat": 4,
 "nbformat_minor": 5
}
