{
 "cells": [
  {
   "cell_type": "code",
   "execution_count": 8,
   "id": "47dff347",
   "metadata": {},
   "outputs": [
    {
     "name": "stdout",
     "output_type": "stream",
     "text": [
      "['Date', 'Inprogress', 'Blocker', 'Completed']\n",
      "['12/06/2025', 'Nghiên cứu finetuning_model\\n- LoRA\\n- QLoRA\\n', '', '- Time optimization for analyis intent']\n"
     ]
    }
   ],
   "source": [
    "from google.oauth2 import service_account\n",
    "from googleapiclient.discovery import build\n",
    "\n",
    "# Thay bằng đường dẫn đến file JSON\n",
    "SERVICE_ACCOUNT_FILE = '../../env/gen-lang-client-0447346298-03c5c4003642.json'\n",
    "\n",
    "# Scope để truy cập Google Sheets\n",
    "SCOPES = ['https://www.googleapis.com/auth/spreadsheets.readonly']\n",
    "\n",
    "# Tạo credentials\n",
    "creds = service_account.Credentials.from_service_account_file(\n",
    "    SERVICE_ACCOUNT_FILE, scopes=SCOPES)\n",
    "\n",
    "# Tạo service object\n",
    "service = build('sheets', 'v4', credentials=creds)\n",
    "\n",
    "# ID và tên sheet bạn muốn đọc\n",
    "SPREADSHEET_ID = '19zPaWbW-VuYqhq1ur8vcPoV4EbDKKVDDN84vi4yuOJU'  # Thay bằng ID thật\n",
    "RANGE_NAME = 'report1!A1:D10'  # Tùy theo vùng dữ liệu bạn muốn lấy\n",
    "\n",
    "# Gọi API\n",
    "sheet = service.spreadsheets()\n",
    "result = sheet.values().get(spreadsheetId=SPREADSHEET_ID,\n",
    "                            range=RANGE_NAME).execute()\n",
    "values = result.get('values', [])\n",
    "\n",
    "# In ra\n",
    "if not values:\n",
    "    print('Không có dữ liệu.')\n",
    "else:\n",
    "    for row in values:\n",
    "        print(row)\n"
   ]
  },
  {
   "cell_type": "code",
   "execution_count": 11,
   "id": "bbdfd249",
   "metadata": {},
   "outputs": [],
   "source": [
    "from google.oauth2 import service_account\n",
    "from googleapiclient.discovery import build\n",
    "\n",
    "creds = service_account.Credentials.from_service_account_file(\n",
    "    \"../../env/gen-lang-client-0447346298-03c5c4003642.json\",\n",
    "    scopes=[\"https://www.googleapis.com/auth/spreadsheets.readonly\"]\n",
    ")\n",
    "\n",
    "service = build('sheets', 'v4', credentials=creds)\n"
   ]
  },
  {
   "cell_type": "code",
   "execution_count": 16,
   "id": "a445bb96",
   "metadata": {},
   "outputs": [
    {
     "data": {
      "text/plain": [
       "{'range': 'report1!A1:D10',\n",
       " 'majorDimension': 'ROWS',\n",
       " 'values': [['Date', 'Inprogress', 'Blocker', 'Completed'],\n",
       "  ['12/06/2025',\n",
       "   'Nghiên cứu finetuning_model\\n- LoRA\\n- QLoRA\\n',\n",
       "   '',\n",
       "   '- Time optimization for analyis intent']]}"
      ]
     },
     "execution_count": 16,
     "metadata": {},
     "output_type": "execute_result"
    }
   ],
   "source": [
    "service.spreadsheets().values().get(spreadsheetId=SPREADSHEET_ID, range=RANGE_NAME).execute()"
   ]
  },
  {
   "cell_type": "code",
   "execution_count": 30,
   "id": "822f0fb6",
   "metadata": {},
   "outputs": [
    {
     "data": {
      "text/plain": [
       "{'Date': '12/06/2025',\n",
       " 'Inprogress': 'Nghiên cứu finetuning_model\\n- LoRA\\n- QLoRA\\n',\n",
       " 'Blocker': None,\n",
       " 'Completed': '- Time optimization for analyis intent'}"
      ]
     },
     "execution_count": 30,
     "metadata": {},
     "output_type": "execute_result"
    }
   ],
   "source": [
    "import polars as pl\n",
    "import requests\n",
    "from io import BytesIO\n",
    "\n",
    "sheet_id = \"19zPaWbW-VuYqhq1ur8vcPoV4EbDKKVDDN84vi4yuOJU\"\n",
    "csv_url = f\"https://docs.google.com/spreadsheets/d/{sheet_id}/export?format=csv\"\n",
    "\n",
    "# Tải dữ liệu dưới dạng bytes\n",
    "response = requests.get(csv_url)\n",
    "response.raise_for_status()\n",
    "\n",
    "# Đọc CSV với encoding UTF-8\n",
    "df = pl.read_csv(BytesIO(response.content), encoding=\"utf8\")\n",
    "\n",
    "df.to_struct()[0]\n"
   ]
  },
  {
   "cell_type": "code",
   "execution_count": 75,
   "id": "c8bf6771",
   "metadata": {},
   "outputs": [],
   "source": [
    "url = \"https://docs.google.com/spreadsheets/d/19zPaWbW-VuYqhq1ur8vcPoV4EbDKKVDDN84vi4yuOJU/edit?usp=sharing\"\n",
    "def get_information_from_url(url: str) -> dict:\n",
    "    \"\"\"\n",
    "    Lấy dữ liệu báo cáo hàng ngày từ Google Sheet bằng URL\n",
    "    \"\"\"\n",
    "    # Tải dữ liệu dưới dạng bytes\n",
    "    sheet_id = url.split(\"/\")[-2]\n",
    "    csv_url = f\"https://docs.google.com/spreadsheets/d/{sheet_id}/export?format=csv\"\n",
    "\n",
    "    response = requests.get(csv_url)\n",
    "    response.raise_for_status()\n",
    "\n",
    "    # Đọc CSV với encoding UTF-8\n",
    "    try:\n",
    "        df = pl.read_csv(BytesIO(response.content), encoding=\"utf8\")\n",
    "        df_formated = df.with_columns(pl.col('Date').str.to_datetime().dt.date().alias('date_formated')).sort(by='date_formated',descending=True) # type: ignore\n",
    "        for content in df_formated.iter_rows():\n",
    "            if content[1]:\n",
    "                return df.filter(pl.col('Date')==content[0]).to_struct()[0]\n",
    "    except Exception as e:\n",
    "        print(e)\n",
    "        return {}\n",
    "    "
   ]
  },
  {
   "cell_type": "code",
   "execution_count": 76,
   "id": "e032656b",
   "metadata": {},
   "outputs": [
    {
     "data": {
      "text/plain": [
       "{'Date': '15/06/2025',\n",
       " 'Inprogress': 'Nghiên cứu finetuning_model\\n- LoRA\\n- QLoRA\\n',\n",
       " 'Blocker': None,\n",
       " 'Completed': '- Time optimization for analyis intent'}"
      ]
     },
     "execution_count": 76,
     "metadata": {},
     "output_type": "execute_result"
    }
   ],
   "source": [
    "get_information_from_url(url)"
   ]
  },
  {
   "cell_type": "code",
   "execution_count": null,
   "id": "c2ce9aa1",
   "metadata": {},
   "outputs": [],
   "source": []
  },
  {
   "cell_type": "code",
   "execution_count": null,
   "id": "4c32c1e0",
   "metadata": {},
   "outputs": [],
   "source": []
  }
 ],
 "metadata": {
  "kernelspec": {
   "display_name": "Python 3",
   "language": "python",
   "name": "python3"
  },
  "language_info": {
   "codemirror_mode": {
    "name": "ipython",
    "version": 3
   },
   "file_extension": ".py",
   "mimetype": "text/x-python",
   "name": "python",
   "nbconvert_exporter": "python",
   "pygments_lexer": "ipython3",
   "version": "3.10.12"
  }
 },
 "nbformat": 4,
 "nbformat_minor": 5
}
